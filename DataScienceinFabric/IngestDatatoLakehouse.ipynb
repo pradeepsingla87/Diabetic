{
 "cells": [
  {
   "cell_type": "code",
   "execution_count": 2,
   "metadata": {},
   "outputs": [],
   "source": [
    "#hello\n",
    "#comments\n",
    "#testing\n",
    "\n",
    "diabetes_dataset_url = \"https://raw.githubusercontent.com/isinghrana/fabric-samples-healthcare/main/datascience-diabetes-prediction/data/diabetes.csv\"\n"
   ]
  }
 ],
 "metadata": {
  "kernelspec": {
   "display_name": "base",
   "language": "python",
   "name": "python3"
  },
  "language_info": {
   "codemirror_mode": {
    "name": "ipython",
    "version": 3
   },
   "file_extension": ".py",
   "mimetype": "text/x-python",
   "name": "python",
   "nbconvert_exporter": "python",
   "pygments_lexer": "ipython3",
   "version": "3.10.10"
  },
  "orig_nbformat": 4
 },
 "nbformat": 4,
 "nbformat_minor": 2
}
